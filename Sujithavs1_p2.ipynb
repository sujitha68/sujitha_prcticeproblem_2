{
  "nbformat": 4,
  "nbformat_minor": 0,
  "metadata": {
    "colab": {
      "provenance": []
    },
    "kernelspec": {
      "name": "python3",
      "display_name": "Python 3"
    },
    "language_info": {
      "name": "python"
    }
  },
  "cells": [
    {
      "cell_type": "markdown",
      "source": [
        "## **PRACTICE EXERCISES ON PYTHON BASICS -2**"
      ],
      "metadata": {
        "id": "Y5DYmWhPVpdi"
      }
    },
    {
      "cell_type": "markdown",
      "source": [
        "**1. Write a Python program to accept a string value from the user and display\n",
        "the count of each character in that string. Sample input: Enter a string\n",
        "value: assembly Sample output: a=1, s=2, e=1, m=1, b=1, l=1, y=1**"
      ],
      "metadata": {
        "id": "4R-y9m1fWXk1"
      }
    },
    {
      "cell_type": "code",
      "source": [
        "str=input('enter the string ')\n",
        "str1=[]\n",
        "for i in str:\n",
        "  if i not in str1:\n",
        "    str1.append(i)\n",
        "    print(i,' = ',str.count(i))\n",
        "\n"
      ],
      "metadata": {
        "id": "1iKVYq9ZW7bW",
        "colab": {
          "base_uri": "https://localhost:8080/"
        },
        "outputId": "6bb0d4bb-76db-4e17-ed34-c119058273f8"
      },
      "execution_count": null,
      "outputs": [
        {
          "output_type": "stream",
          "name": "stdout",
          "text": [
            "enter the string assembly\n",
            "a  =  1\n",
            "s  =  2\n",
            "e  =  1\n",
            "m  =  1\n",
            "b  =  1\n",
            "l  =  1\n",
            "y  =  1\n"
          ]
        }
      ]
    },
    {
      "cell_type": "markdown",
      "source": [
        "**2. . Write a Python function to find the maximum of three numbers Sample\n",
        "input: 34,12,7 Sample output: 34**"
      ],
      "metadata": {
        "id": "CmqbjvGpXf_e"
      }
    },
    {
      "cell_type": "code",
      "source": [
        "num1=input('Enter First number ')\n",
        "num2=input('Enter Second number ')\n",
        "num3=input('Enter Third number ')\n",
        "if num1>=num2 and num1>=num3:\n",
        "  print(num1)\n",
        "elif num2>num3:\n",
        "  print(num2)\n",
        "else:\n",
        "  print(num3)\n"
      ],
      "metadata": {
        "id": "YJfV29ZBXoq0",
        "colab": {
          "base_uri": "https://localhost:8080/"
        },
        "outputId": "31c3af52-c0d8-4205-ffb1-1ddb6f89d981"
      },
      "execution_count": null,
      "outputs": [
        {
          "output_type": "stream",
          "name": "stdout",
          "text": [
            "Enter First number 1\n",
            "Enter Second number 10\n",
            "Enter Third number 100\n",
            "100\n"
          ]
        }
      ]
    },
    {
      "cell_type": "markdown",
      "source": [
        "**3. Write a Python function called exponent(base,exp) that returns an\n",
        "integer value of base raises to the power of exp. Sample input: Enter the\n",
        "base: 2 Enter the exponent: 3 Sample output: 8**"
      ],
      "metadata": {
        "id": "cf59pn4DXpTF"
      }
    },
    {
      "cell_type": "code",
      "source": [
        "base=int(input('Enter the base '))\n",
        "exp=int(input('Enter the exponent '))\n",
        "print(base**exp)"
      ],
      "metadata": {
        "id": "hEdZf7fsXyqg",
        "colab": {
          "base_uri": "https://localhost:8080/"
        },
        "outputId": "7131a863-ca71-4688-f992-6ca965fe0880"
      },
      "execution_count": null,
      "outputs": [
        {
          "output_type": "stream",
          "name": "stdout",
          "text": [
            "Enter the base 2\n",
            "Enter the exponent 3\n",
            "8\n"
          ]
        }
      ]
    },
    {
      "cell_type": "markdown",
      "source": [
        "**4. Write a Python function that takes a positive integer and returns the sum\n",
        "of the cube of all the positive integers smaller than the specified number.\n",
        "Sample input: 4 Sample output: 36.**"
      ],
      "metadata": {
        "id": "0EHfL6jmXwh8"
      }
    },
    {
      "cell_type": "code",
      "source": [
        "lim=int(input('Enter a positive number '))\n",
        "i=1\n",
        "n=0\n",
        "sum=0\n",
        "while i<lim:\n",
        "  n=i*i*i\n",
        "  i+=1\n",
        "  sum+=n\n",
        "print(sum)"
      ],
      "metadata": {
        "id": "vb-o2e-QX4ws",
        "colab": {
          "base_uri": "https://localhost:8080/"
        },
        "outputId": "435dc5d0-3354-4ede-bcb2-9d97a100932d"
      },
      "execution_count": null,
      "outputs": [
        {
          "output_type": "stream",
          "name": "stdout",
          "text": [
            "Enter a positive number 4\n",
            "36\n"
          ]
        }
      ]
    },
    {
      "cell_type": "markdown",
      "source": [
        "**5. Write a Python program which iterates from 1 to 10. For multiples of 2,\n",
        "print “Fizz” instead of the number and for the multiples of 5, print “Buzz”.\n",
        "For numbers which are multiples of both 2 and 5, print “FizzBuzz”.\n",
        "Sample input: numbers from 1 to 10 Sample output: 1 Fizz 3 Fizz Buzz\n",
        "Fizz 7 Fizz 9 FizzBuzz**"
      ],
      "metadata": {
        "id": "wHc3USJnX5OE"
      }
    },
    {
      "cell_type": "code",
      "source": [
        "lim=int(input('enter the limit'))\n",
        "for i in range(1,lim+1):\n",
        "  if i%2==0 and i%5==0:\n",
        "    print(\"FizzBuzz\",end=\" \")\n",
        "  elif i%2==0:\n",
        "    print(\"Fizz\",end=\" \")\n",
        "  elif i%5==0:\n",
        "    print(\"Buzz\",end=\" \")\n",
        "  else:\n",
        "      print(i,end=\" \")\n",
        "\n",
        "\n",
        "\n",
        "\n"
      ],
      "metadata": {
        "id": "2nUQkuoGYASc",
        "colab": {
          "base_uri": "https://localhost:8080/"
        },
        "outputId": "a7b08fd9-430e-40f7-89ec-6449f1215423"
      },
      "execution_count": 122,
      "outputs": [
        {
          "output_type": "stream",
          "name": "stdout",
          "text": [
            "enter the limit10\n",
            "1 Fizz 3 Fizz Buzz Fizz 7 Fizz 9 FizzBuzz "
          ]
        }
      ]
    },
    {
      "cell_type": "markdown",
      "source": [
        "**10. Write a Python function to calculate the factorial of a number (a\n",
        "nonnegative integer). The function accepts the number as an argument.\n",
        "Sample input: 3 Sample output: 6**"
      ],
      "metadata": {
        "id": "yrJa_7rXYaYM"
      }
    },
    {
      "cell_type": "code",
      "source": [
        "num=int(input('enter the positive number'))\n",
        "temp=1\n",
        "for i in range(1,num+1):\n",
        "  temp=temp*i\n",
        "print (temp)"
      ],
      "metadata": {
        "id": "TRA3M6R_YfvL",
        "colab": {
          "base_uri": "https://localhost:8080/"
        },
        "outputId": "ff0568f7-34d4-498f-d5e6-d05b76143fa6"
      },
      "execution_count": 111,
      "outputs": [
        {
          "output_type": "stream",
          "name": "stdout",
          "text": [
            "enter the positive number3\n",
            "6\n"
          ]
        }
      ]
    }
  ]
}