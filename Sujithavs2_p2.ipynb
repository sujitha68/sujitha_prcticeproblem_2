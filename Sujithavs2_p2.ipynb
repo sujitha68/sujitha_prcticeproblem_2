{
  "nbformat": 4,
  "nbformat_minor": 0,
  "metadata": {
    "colab": {
      "provenance": []
    },
    "kernelspec": {
      "name": "python3",
      "display_name": "Python 3"
    },
    "language_info": {
      "name": "python"
    }
  },
  "cells": [
    {
      "cell_type": "markdown",
      "source": [
        "**6. Write a Python program to find the most frequent item in a list of numbers. Sample input: 2, 3, 4, 2, 5, 2 Sample output:**"
      ],
      "metadata": {
        "id": "KUD7ReBEaVqh"
      }
    },
    {
      "cell_type": "code",
      "source": [
        "mylist=[2,3,4,2,5,2,]\n",
        "count=0\n",
        "temp=0\n",
        "var=0\n",
        "for i in range(0,len(mylist)):\n",
        "  temp=mylist.count(i)\n",
        "\n",
        "  if (temp>count):\n",
        "    count = temp\n",
        "    var= i\n",
        "\n",
        "print(var)"
      ],
      "metadata": {
        "colab": {
          "base_uri": "https://localhost:8080/"
        },
        "id": "zyGV9b-RaevM",
        "outputId": "559f5173-6603-4caa-ce89-0c969234ff71"
      },
      "execution_count": 8,
      "outputs": [
        {
          "output_type": "stream",
          "name": "stdout",
          "text": [
            "3\n"
          ]
        }
      ]
    },
    {
      "cell_type": "markdown",
      "source": [
        "**7. Write a Python program to find the sum of squares of the numbers in a list. Sample input: 2,1,3,1 Sample output: 15**"
      ],
      "metadata": {
        "id": "-WFox_nycdyl"
      }
    },
    {
      "cell_type": "code",
      "source": [
        "list=[2,1,3,1]\n",
        "sum=0\n",
        "num=0\n",
        "for i in range(len(list)):\n",
        "  num=list[i]**2\n",
        "  sum+=num\n",
        "print(sum)\n"
      ],
      "metadata": {
        "colab": {
          "base_uri": "https://localhost:8080/"
        },
        "id": "mLjhe-91cje8",
        "outputId": "2a215a55-7b56-4ade-f530-2728fa774c81"
      },
      "execution_count": 41,
      "outputs": [
        {
          "output_type": "stream",
          "name": "stdout",
          "text": [
            "15\n"
          ]
        }
      ]
    },
    {
      "cell_type": "markdown",
      "source": [
        "**8. Write a Python program using for loop that will iterate from 1 to 15. For each iteration, check if the current number is odd or even, and display the message to the screen as odd or even. Sample input: 1….15 Sample output: 1-odd 2-even …. 15-odd**"
      ],
      "metadata": {
        "id": "ASic_PkDetqs"
      }
    },
    {
      "cell_type": "code",
      "source": [
        "for i in range(1,15+1):\n",
        "  if i%2==0:\n",
        "    print(i,' -even')\n",
        "  else:\n",
        "   print(i,'- odd')\n"
      ],
      "metadata": {
        "colab": {
          "base_uri": "https://localhost:8080/"
        },
        "id": "hQaoWVGYe0S6",
        "outputId": "6dc31f48-9f92-480c-8282-20a13ae4e519"
      },
      "execution_count": 20,
      "outputs": [
        {
          "output_type": "stream",
          "name": "stdout",
          "text": [
            "1 - odd\n",
            "2  -even\n",
            "3 - odd\n",
            "4  -even\n",
            "5 - odd\n",
            "6  -even\n",
            "7 - odd\n",
            "8  -even\n",
            "9 - odd\n",
            "10  -even\n",
            "11 - odd\n",
            "12  -even\n",
            "13 - odd\n",
            "14  -even\n",
            "15 - odd\n"
          ]
        }
      ]
    },
    {
      "cell_type": "markdown",
      "source": [
        "**9. Write a Python program to convert temperatures to and from Celsius Fahrenheit. [Formula: c/5=f-32/9 where c=temperature in Celsius and f= temperature in Fahrenheit.] Sample input: Temperature in Fahrenheit =41 Sample output: Temperature in Celsius =5**"
      ],
      "metadata": {
        "id": "QXCih7NngoFM"
      }
    },
    {
      "cell_type": "code",
      "source": [
        "f=int(input('Temperature in Fahrenheit = '))\n",
        "c=(f-32)*5/9\n",
        "print(c)"
      ],
      "metadata": {
        "colab": {
          "base_uri": "https://localhost:8080/"
        },
        "id": "aEbaOZEJhCMp",
        "outputId": "b555b17e-9141-4721-df44-874cf702c40b"
      },
      "execution_count": 28,
      "outputs": [
        {
          "output_type": "stream",
          "name": "stdout",
          "text": [
            "Temperature in Fahrenheit = 41\n",
            "5.0\n"
          ]
        }
      ]
    }
  ]
}